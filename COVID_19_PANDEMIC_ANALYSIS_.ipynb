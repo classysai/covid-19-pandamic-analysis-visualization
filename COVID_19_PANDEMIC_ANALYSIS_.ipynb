{
  "nbformat": 4,
  "nbformat_minor": 0,
  "metadata": {
    "colab": {
      "name": "COVID 19 PANDEMIC ANALYSIS .ipynb",
      "provenance": [],
      "collapsed_sections": [],
      "mount_file_id": "1cqTNHr6nPumFcKP_HrNfAwNIo5fURjRU",
      "authorship_tag": "ABX9TyPHaMescjO4pTEALENzN/AY",
      "include_colab_link": true
    },
    "kernelspec": {
      "name": "python3",
      "display_name": "Python 3"
    },
    "language_info": {
      "name": "python"
    }
  },
  "cells": [
    {
      "cell_type": "markdown",
      "metadata": {
        "id": "view-in-github",
        "colab_type": "text"
      },
      "source": [
        "<a href=\"https://colab.research.google.com/github/classysai/major-project/blob/main/COVID_19_PANDEMIC_ANALYSIS_.ipynb\" target=\"_parent\"><img src=\"https://colab.research.google.com/assets/colab-badge.svg\" alt=\"Open In Colab\"/></a>"
      ]
    },
    {
      "cell_type": "code",
      "metadata": {
        "colab": {
          "base_uri": "https://localhost:8080/",
          "height": 423
        },
        "id": "6pObwVZvKPIL",
        "outputId": "f8399feb-9947-4f68-d0a3-923376d3bc48"
      },
      "source": [
        "import pandas as pd\n",
        "import datetime\n",
        "df=pd.read_csv(\"/content/drive/MyDrive/data sets/covid-19.csv\")\n",
        "df.head()"
      ],
      "execution_count": null,
      "outputs": [
        {
          "output_type": "execute_result",
          "data": {
            "text/html": [
              "<div>\n",
              "<style scoped>\n",
              "    .dataframe tbody tr th:only-of-type {\n",
              "        vertical-align: middle;\n",
              "    }\n",
              "\n",
              "    .dataframe tbody tr th {\n",
              "        vertical-align: top;\n",
              "    }\n",
              "\n",
              "    .dataframe thead th {\n",
              "        text-align: right;\n",
              "    }\n",
              "</style>\n",
              "<table border=\"1\" class=\"dataframe\">\n",
              "  <thead>\n",
              "    <tr style=\"text-align: right;\">\n",
              "      <th></th>\n",
              "      <th>Country/Region</th>\n",
              "      <th>Confirmed</th>\n",
              "      <th>Deaths</th>\n",
              "      <th>Recovered</th>\n",
              "      <th>Active</th>\n",
              "      <th>New cases</th>\n",
              "      <th>New deaths</th>\n",
              "      <th>New recovered</th>\n",
              "      <th>Deaths / 100 Cases</th>\n",
              "      <th>Recovered / 100 Cases</th>\n",
              "      <th>Deaths / 100 Recovered</th>\n",
              "      <th>Confirmed last week</th>\n",
              "      <th>1 week change</th>\n",
              "      <th>1 week % increase</th>\n",
              "      <th>WHO Region</th>\n",
              "      <th>Unnamed: 15</th>\n",
              "      <th>date</th>\n",
              "      <th>vaccine</th>\n",
              "      <th>total_vaccinations</th>\n",
              "    </tr>\n",
              "  </thead>\n",
              "  <tbody>\n",
              "    <tr>\n",
              "      <th>0</th>\n",
              "      <td>Afghanistan</td>\n",
              "      <td>36263.0</td>\n",
              "      <td>1269.0</td>\n",
              "      <td>25198.0</td>\n",
              "      <td>9796.0</td>\n",
              "      <td>106.0</td>\n",
              "      <td>10.0</td>\n",
              "      <td>18.0</td>\n",
              "      <td>3.50</td>\n",
              "      <td>69.49</td>\n",
              "      <td>5.04</td>\n",
              "      <td>35526.0</td>\n",
              "      <td>737.0</td>\n",
              "      <td>2.07</td>\n",
              "      <td>Eastern Mediterranean</td>\n",
              "      <td>NaN</td>\n",
              "      <td>08-01-2021</td>\n",
              "      <td>Johnson&amp;Johnson</td>\n",
              "      <td>0.0</td>\n",
              "    </tr>\n",
              "    <tr>\n",
              "      <th>1</th>\n",
              "      <td>Albania</td>\n",
              "      <td>4880.0</td>\n",
              "      <td>144.0</td>\n",
              "      <td>2745.0</td>\n",
              "      <td>1991.0</td>\n",
              "      <td>117.0</td>\n",
              "      <td>6.0</td>\n",
              "      <td>63.0</td>\n",
              "      <td>2.95</td>\n",
              "      <td>56.25</td>\n",
              "      <td>5.25</td>\n",
              "      <td>4171.0</td>\n",
              "      <td>709.0</td>\n",
              "      <td>17.00</td>\n",
              "      <td>Europe</td>\n",
              "      <td>NaN</td>\n",
              "      <td>08-01-2021</td>\n",
              "      <td>Moderna</td>\n",
              "      <td>0.0</td>\n",
              "    </tr>\n",
              "    <tr>\n",
              "      <th>2</th>\n",
              "      <td>Algeria</td>\n",
              "      <td>27973.0</td>\n",
              "      <td>1163.0</td>\n",
              "      <td>18837.0</td>\n",
              "      <td>7973.0</td>\n",
              "      <td>616.0</td>\n",
              "      <td>8.0</td>\n",
              "      <td>749.0</td>\n",
              "      <td>4.16</td>\n",
              "      <td>67.34</td>\n",
              "      <td>6.17</td>\n",
              "      <td>23691.0</td>\n",
              "      <td>4282.0</td>\n",
              "      <td>18.07</td>\n",
              "      <td>Africa</td>\n",
              "      <td>NaN</td>\n",
              "      <td>08-01-2021</td>\n",
              "      <td>Oxford/AstraZeneca</td>\n",
              "      <td>0.0</td>\n",
              "    </tr>\n",
              "    <tr>\n",
              "      <th>3</th>\n",
              "      <td>Andorra</td>\n",
              "      <td>907.0</td>\n",
              "      <td>52.0</td>\n",
              "      <td>803.0</td>\n",
              "      <td>52.0</td>\n",
              "      <td>10.0</td>\n",
              "      <td>0.0</td>\n",
              "      <td>0.0</td>\n",
              "      <td>5.73</td>\n",
              "      <td>88.53</td>\n",
              "      <td>6.48</td>\n",
              "      <td>884.0</td>\n",
              "      <td>23.0</td>\n",
              "      <td>2.60</td>\n",
              "      <td>Europe</td>\n",
              "      <td>NaN</td>\n",
              "      <td>08-01-2021</td>\n",
              "      <td>Pfizer/BioNTech</td>\n",
              "      <td>30846.0</td>\n",
              "    </tr>\n",
              "    <tr>\n",
              "      <th>4</th>\n",
              "      <td>Angola</td>\n",
              "      <td>950.0</td>\n",
              "      <td>41.0</td>\n",
              "      <td>242.0</td>\n",
              "      <td>667.0</td>\n",
              "      <td>18.0</td>\n",
              "      <td>1.0</td>\n",
              "      <td>0.0</td>\n",
              "      <td>4.32</td>\n",
              "      <td>25.47</td>\n",
              "      <td>16.94</td>\n",
              "      <td>749.0</td>\n",
              "      <td>201.0</td>\n",
              "      <td>26.84</td>\n",
              "      <td>Africa</td>\n",
              "      <td>NaN</td>\n",
              "      <td>15-01-2021</td>\n",
              "      <td>Johnson&amp;Johnson</td>\n",
              "      <td>0.0</td>\n",
              "    </tr>\n",
              "  </tbody>\n",
              "</table>\n",
              "</div>"
            ],
            "text/plain": [
              "  Country/Region  Confirmed  ...             vaccine  total_vaccinations\n",
              "0    Afghanistan    36263.0  ...     Johnson&Johnson                 0.0\n",
              "1        Albania     4880.0  ...             Moderna                 0.0\n",
              "2        Algeria    27973.0  ...  Oxford/AstraZeneca                 0.0\n",
              "3        Andorra      907.0  ...     Pfizer/BioNTech             30846.0\n",
              "4         Angola      950.0  ...     Johnson&Johnson                 0.0\n",
              "\n",
              "[5 rows x 19 columns]"
            ]
          },
          "metadata": {
            "tags": []
          },
          "execution_count": 1
        }
      ]
    },
    {
      "cell_type": "code",
      "metadata": {
        "colab": {
          "base_uri": "https://localhost:8080/"
        },
        "id": "cMCc1FX9LV4P",
        "outputId": "39953139-2cc0-41e2-ae6e-f48b0576d618"
      },
      "source": [
        "df.columns"
      ],
      "execution_count": null,
      "outputs": [
        {
          "output_type": "execute_result",
          "data": {
            "text/plain": [
              "Index(['Country/Region', 'Confirmed', 'Deaths', 'Recovered', 'Active',\n",
              "       'New cases', 'New deaths', 'New recovered', 'Deaths / 100 Cases',\n",
              "       'Recovered / 100 Cases', 'Deaths / 100 Recovered',\n",
              "       'Confirmed last week', '1 week change', '1 week % increase',\n",
              "       'WHO Region', 'Unnamed: 15', 'date', 'vaccine', 'total_vaccinations'],\n",
              "      dtype='object')"
            ]
          },
          "metadata": {
            "tags": []
          },
          "execution_count": 2
        }
      ]
    },
    {
      "cell_type": "code",
      "metadata": {
        "colab": {
          "base_uri": "https://localhost:8080/"
        },
        "id": "vXxlcgifKqyu",
        "outputId": "cc23b5d0-28e7-486f-e00d-7a2a9b80287e"
      },
      "source": [
        "df.shape\n"
      ],
      "execution_count": null,
      "outputs": [
        {
          "output_type": "execute_result",
          "data": {
            "text/plain": [
              "(292, 19)"
            ]
          },
          "metadata": {
            "tags": []
          },
          "execution_count": 3
        }
      ]
    },
    {
      "cell_type": "code",
      "metadata": {
        "id": "-GUtjeIn2F-J"
      },
      "source": [
        "#sorting the dataframe according to the latest date of the Data set\n",
        "d=df[df['date']=='2021-06-05']  "
      ],
      "execution_count": null,
      "outputs": []
    },
    {
      "cell_type": "markdown",
      "metadata": {
        "id": "pNGN6ELsEdFz"
      },
      "source": [
        "1.Which country/Region is having highest number of cases?  \n",
        "2.Which country/Region is having lowest number of cases?  \n",
        "3.Which country/Region is having lowest number of deaths?  \n",
        "4.Which country/Region is having highest number of deaths  \n",
        "5.Which country/Region is most vaccinated?"
      ]
    },
    {
      "cell_type": "markdown",
      "metadata": {
        "id": "8M_tofF_Nz2s"
      },
      "source": [
        "# 1. country which having highest number of cases Confirmed\n"
      ]
    },
    {
      "cell_type": "code",
      "metadata": {
        "colab": {
          "base_uri": "https://localhost:8080/",
          "height": 446
        },
        "id": "fO66P1-bOGxr",
        "outputId": "a51fbb2a-9955-4f9e-d5ce-3a08a32bb96a"
      },
      "source": [
        "df_cc=df.groupby('Country/Region').aggregate({'Confirmed':'sum'})\n",
        "df_cc=df_cc.sort_values(by=\"Confirmed\",ascending=False)\n",
        "df_cc"
      ],
      "execution_count": null,
      "outputs": [
        {
          "output_type": "execute_result",
          "data": {
            "text/html": [
              "<div>\n",
              "<style scoped>\n",
              "    .dataframe tbody tr th:only-of-type {\n",
              "        vertical-align: middle;\n",
              "    }\n",
              "\n",
              "    .dataframe tbody tr th {\n",
              "        vertical-align: top;\n",
              "    }\n",
              "\n",
              "    .dataframe thead th {\n",
              "        text-align: right;\n",
              "    }\n",
              "</style>\n",
              "<table border=\"1\" class=\"dataframe\">\n",
              "  <thead>\n",
              "    <tr style=\"text-align: right;\">\n",
              "      <th></th>\n",
              "      <th>Confirmed</th>\n",
              "    </tr>\n",
              "    <tr>\n",
              "      <th>Country/Region</th>\n",
              "      <th></th>\n",
              "    </tr>\n",
              "  </thead>\n",
              "  <tbody>\n",
              "    <tr>\n",
              "      <th>US</th>\n",
              "      <td>4290259.0</td>\n",
              "    </tr>\n",
              "    <tr>\n",
              "      <th>Brazil</th>\n",
              "      <td>2442375.0</td>\n",
              "    </tr>\n",
              "    <tr>\n",
              "      <th>India</th>\n",
              "      <td>1480073.0</td>\n",
              "    </tr>\n",
              "    <tr>\n",
              "      <th>Russia</th>\n",
              "      <td>816680.0</td>\n",
              "    </tr>\n",
              "    <tr>\n",
              "      <th>South Africa</th>\n",
              "      <td>452529.0</td>\n",
              "    </tr>\n",
              "    <tr>\n",
              "      <th>...</th>\n",
              "      <td>...</td>\n",
              "    </tr>\n",
              "    <tr>\n",
              "      <th>Dominica</th>\n",
              "      <td>18.0</td>\n",
              "    </tr>\n",
              "    <tr>\n",
              "      <th>Saint Kitts and Nevis</th>\n",
              "      <td>17.0</td>\n",
              "    </tr>\n",
              "    <tr>\n",
              "      <th>Greenland</th>\n",
              "      <td>14.0</td>\n",
              "    </tr>\n",
              "    <tr>\n",
              "      <th>Holy See</th>\n",
              "      <td>12.0</td>\n",
              "    </tr>\n",
              "    <tr>\n",
              "      <th>Western Sahara</th>\n",
              "      <td>10.0</td>\n",
              "    </tr>\n",
              "  </tbody>\n",
              "</table>\n",
              "<p>187 rows × 1 columns</p>\n",
              "</div>"
            ],
            "text/plain": [
              "                       Confirmed\n",
              "Country/Region                  \n",
              "US                     4290259.0\n",
              "Brazil                 2442375.0\n",
              "India                  1480073.0\n",
              "Russia                  816680.0\n",
              "South Africa            452529.0\n",
              "...                          ...\n",
              "Dominica                    18.0\n",
              "Saint Kitts and Nevis       17.0\n",
              "Greenland                   14.0\n",
              "Holy See                    12.0\n",
              "Western Sahara              10.0\n",
              "\n",
              "[187 rows x 1 columns]"
            ]
          },
          "metadata": {
            "tags": []
          },
          "execution_count": 6
        }
      ]
    },
    {
      "cell_type": "code",
      "metadata": {
        "colab": {
          "base_uri": "https://localhost:8080/"
        },
        "id": "yZFbdHi92F5o",
        "outputId": "3c7f7260-c81a-4fd8-abfb-d29d26fb119d"
      },
      "source": [
        "# 1. country which having highest number of cases Conformed\n",
        "list(df[df['Confirmed']==max(df.Confirmed)]['Country/Region'])"
      ],
      "execution_count": null,
      "outputs": [
        {
          "output_type": "execute_result",
          "data": {
            "text/plain": [
              "['US']"
            ]
          },
          "metadata": {
            "tags": []
          },
          "execution_count": 7
        }
      ]
    },
    {
      "cell_type": "markdown",
      "metadata": {
        "id": "Bu59EnwkO9VU"
      },
      "source": [
        "# 2. country which having lowest number of cases Confirmed"
      ]
    },
    {
      "cell_type": "code",
      "metadata": {
        "colab": {
          "base_uri": "https://localhost:8080/"
        },
        "id": "Y5G1tC5O2Fyq",
        "outputId": "bfea50e8-cba1-4083-dbe5-77036504c8db"
      },
      "source": [
        "# 2. country which having lowest number of cases Conformed\n",
        "list(df[df['Confirmed']==min(df.Confirmed)]['Country/Region'])"
      ],
      "execution_count": null,
      "outputs": [
        {
          "output_type": "execute_result",
          "data": {
            "text/plain": [
              "['Western Sahara']"
            ]
          },
          "metadata": {
            "tags": []
          },
          "execution_count": 8
        }
      ]
    },
    {
      "cell_type": "markdown",
      "metadata": {
        "id": "YLOo7LBnPau7"
      },
      "source": [
        "# 3. country('s) which haivng least number of Deaths "
      ]
    },
    {
      "cell_type": "code",
      "metadata": {
        "colab": {
          "base_uri": "https://localhost:8080/",
          "height": 446
        },
        "id": "RPayu0ZfPcaw",
        "outputId": "4b864267-4c9b-470e-cb9b-8c31c3d229af"
      },
      "source": [
        "df_cd=df.groupby('Country/Region').aggregate({'Deaths':'sum'})\n",
        "df_cd=df_cd.sort_values(by=\"Deaths\",ascending=False)\n",
        "df_cd"
      ],
      "execution_count": null,
      "outputs": [
        {
          "output_type": "execute_result",
          "data": {
            "text/html": [
              "<div>\n",
              "<style scoped>\n",
              "    .dataframe tbody tr th:only-of-type {\n",
              "        vertical-align: middle;\n",
              "    }\n",
              "\n",
              "    .dataframe tbody tr th {\n",
              "        vertical-align: top;\n",
              "    }\n",
              "\n",
              "    .dataframe thead th {\n",
              "        text-align: right;\n",
              "    }\n",
              "</style>\n",
              "<table border=\"1\" class=\"dataframe\">\n",
              "  <thead>\n",
              "    <tr style=\"text-align: right;\">\n",
              "      <th></th>\n",
              "      <th>Deaths</th>\n",
              "    </tr>\n",
              "    <tr>\n",
              "      <th>Country/Region</th>\n",
              "      <th></th>\n",
              "    </tr>\n",
              "  </thead>\n",
              "  <tbody>\n",
              "    <tr>\n",
              "      <th>US</th>\n",
              "      <td>148011.0</td>\n",
              "    </tr>\n",
              "    <tr>\n",
              "      <th>Brazil</th>\n",
              "      <td>87618.0</td>\n",
              "    </tr>\n",
              "    <tr>\n",
              "      <th>United Kingdom</th>\n",
              "      <td>45844.0</td>\n",
              "    </tr>\n",
              "    <tr>\n",
              "      <th>Mexico</th>\n",
              "      <td>44022.0</td>\n",
              "    </tr>\n",
              "    <tr>\n",
              "      <th>Italy</th>\n",
              "      <td>35112.0</td>\n",
              "    </tr>\n",
              "    <tr>\n",
              "      <th>...</th>\n",
              "      <td>...</td>\n",
              "    </tr>\n",
              "    <tr>\n",
              "      <th>Laos</th>\n",
              "      <td>0.0</td>\n",
              "    </tr>\n",
              "    <tr>\n",
              "      <th>Greenland</th>\n",
              "      <td>0.0</td>\n",
              "    </tr>\n",
              "    <tr>\n",
              "      <th>Cambodia</th>\n",
              "      <td>0.0</td>\n",
              "    </tr>\n",
              "    <tr>\n",
              "      <th>Grenada</th>\n",
              "      <td>0.0</td>\n",
              "    </tr>\n",
              "    <tr>\n",
              "      <th>Mongolia</th>\n",
              "      <td>0.0</td>\n",
              "    </tr>\n",
              "  </tbody>\n",
              "</table>\n",
              "<p>187 rows × 1 columns</p>\n",
              "</div>"
            ],
            "text/plain": [
              "                  Deaths\n",
              "Country/Region          \n",
              "US              148011.0\n",
              "Brazil           87618.0\n",
              "United Kingdom   45844.0\n",
              "Mexico           44022.0\n",
              "Italy            35112.0\n",
              "...                  ...\n",
              "Laos                 0.0\n",
              "Greenland            0.0\n",
              "Cambodia             0.0\n",
              "Grenada              0.0\n",
              "Mongolia             0.0\n",
              "\n",
              "[187 rows x 1 columns]"
            ]
          },
          "metadata": {
            "tags": []
          },
          "execution_count": 9
        }
      ]
    },
    {
      "cell_type": "code",
      "metadata": {
        "colab": {
          "base_uri": "https://localhost:8080/"
        },
        "id": "uiPU5Agz4qgJ",
        "outputId": "da5f4d3b-8ec3-4bc6-c389-0697ace259be"
      },
      "source": [
        "# 3. country('s) which haivng least number of Deaths \n",
        "list(df[df['Deaths']==min(df.Deaths)]['Country/Region'])"
      ],
      "execution_count": null,
      "outputs": [
        {
          "output_type": "execute_result",
          "data": {
            "text/plain": [
              "['Bhutan',\n",
              " 'Cambodia',\n",
              " 'Dominica',\n",
              " 'Eritrea',\n",
              " 'Fiji',\n",
              " 'Greenland',\n",
              " 'Grenada',\n",
              " 'Holy See',\n",
              " 'Laos',\n",
              " 'Mongolia',\n",
              " 'Papua New Guinea',\n",
              " 'Saint Kitts and Nevis',\n",
              " 'Saint Lucia',\n",
              " 'Saint Vincent and the Grenadines',\n",
              " 'Seychelles',\n",
              " 'Timor-Leste',\n",
              " 'Vietnam']"
            ]
          },
          "metadata": {
            "tags": []
          },
          "execution_count": 10
        }
      ]
    },
    {
      "cell_type": "markdown",
      "metadata": {
        "id": "0fvNPVFQP_JH"
      },
      "source": [
        "# 4. country which having highest number of Deaths"
      ]
    },
    {
      "cell_type": "code",
      "metadata": {
        "colab": {
          "base_uri": "https://localhost:8080/"
        },
        "id": "tChrGTFQ4qZq",
        "outputId": "2f7efab7-7f48-4402-90da-357a10bb0c8e"
      },
      "source": [
        "# 4. country which having highest number of Deaths\n",
        "list(df[df['Deaths']==max(df.Deaths)]['Country/Region'])"
      ],
      "execution_count": null,
      "outputs": [
        {
          "output_type": "execute_result",
          "data": {
            "text/plain": [
              "['US']"
            ]
          },
          "metadata": {
            "tags": []
          },
          "execution_count": 11
        }
      ]
    },
    {
      "cell_type": "markdown",
      "metadata": {
        "id": "hqxEXfsQPvq6"
      },
      "source": [
        "# 5. country which is most vaccinated"
      ]
    },
    {
      "cell_type": "code",
      "metadata": {
        "colab": {
          "base_uri": "https://localhost:8080/",
          "height": 446
        },
        "id": "gaEz1fouPyd4",
        "outputId": "0bd6fda2-8f77-4e8c-86fe-92d81d3824d0"
      },
      "source": [
        "df_cv=df.groupby('Country/Region').aggregate({'total_vaccinations':'sum'})\n",
        "df_cv=df_cv.sort_values(by=\"total_vaccinations\",ascending=False)\n",
        "df_cv"
      ],
      "execution_count": null,
      "outputs": [
        {
          "output_type": "execute_result",
          "data": {
            "text/html": [
              "<div>\n",
              "<style scoped>\n",
              "    .dataframe tbody tr th:only-of-type {\n",
              "        vertical-align: middle;\n",
              "    }\n",
              "\n",
              "    .dataframe tbody tr th {\n",
              "        vertical-align: top;\n",
              "    }\n",
              "\n",
              "    .dataframe thead th {\n",
              "        text-align: right;\n",
              "    }\n",
              "</style>\n",
              "<table border=\"1\" class=\"dataframe\">\n",
              "  <thead>\n",
              "    <tr style=\"text-align: right;\">\n",
              "      <th></th>\n",
              "      <th>total_vaccinations</th>\n",
              "    </tr>\n",
              "    <tr>\n",
              "      <th>Country/Region</th>\n",
              "      <th></th>\n",
              "    </tr>\n",
              "  </thead>\n",
              "  <tbody>\n",
              "    <tr>\n",
              "      <th>Syria</th>\n",
              "      <td>5552359.0</td>\n",
              "    </tr>\n",
              "    <tr>\n",
              "      <th>Sudan</th>\n",
              "      <td>5286020.0</td>\n",
              "    </tr>\n",
              "    <tr>\n",
              "      <th>South Korea</th>\n",
              "      <td>4592842.0</td>\n",
              "    </tr>\n",
              "    <tr>\n",
              "      <th>Kosovo</th>\n",
              "      <td>4178640.0</td>\n",
              "    </tr>\n",
              "    <tr>\n",
              "      <th>Slovakia</th>\n",
              "      <td>4153595.0</td>\n",
              "    </tr>\n",
              "    <tr>\n",
              "      <th>...</th>\n",
              "      <td>...</td>\n",
              "    </tr>\n",
              "    <tr>\n",
              "      <th>China</th>\n",
              "      <td>0.0</td>\n",
              "    </tr>\n",
              "    <tr>\n",
              "      <th>Albania</th>\n",
              "      <td>0.0</td>\n",
              "    </tr>\n",
              "    <tr>\n",
              "      <th>Liechtenstein</th>\n",
              "      <td>0.0</td>\n",
              "    </tr>\n",
              "    <tr>\n",
              "      <th>Panama</th>\n",
              "      <td>0.0</td>\n",
              "    </tr>\n",
              "    <tr>\n",
              "      <th>Afghanistan</th>\n",
              "      <td>0.0</td>\n",
              "    </tr>\n",
              "  </tbody>\n",
              "</table>\n",
              "<p>187 rows × 1 columns</p>\n",
              "</div>"
            ],
            "text/plain": [
              "                total_vaccinations\n",
              "Country/Region                    \n",
              "Syria                    5552359.0\n",
              "Sudan                    5286020.0\n",
              "South Korea              4592842.0\n",
              "Kosovo                   4178640.0\n",
              "Slovakia                 4153595.0\n",
              "...                            ...\n",
              "China                          0.0\n",
              "Albania                        0.0\n",
              "Liechtenstein                  0.0\n",
              "Panama                         0.0\n",
              "Afghanistan                    0.0\n",
              "\n",
              "[187 rows x 1 columns]"
            ]
          },
          "metadata": {
            "tags": []
          },
          "execution_count": 12
        }
      ]
    },
    {
      "cell_type": "code",
      "metadata": {
        "colab": {
          "base_uri": "https://localhost:8080/"
        },
        "id": "iQSuC7Pi5JGl",
        "outputId": "68f4bd7e-ca71-44f1-fb94-4afb953e812d"
      },
      "source": [
        "# 5. country which is most vaccinated\n",
        "list(df[df['total_vaccinations']==max(df.total_vaccinations)]['Country/Region'])"
      ],
      "execution_count": null,
      "outputs": [
        {
          "output_type": "execute_result",
          "data": {
            "text/plain": [
              "['Syria']"
            ]
          },
          "metadata": {
            "tags": []
          },
          "execution_count": 13
        }
      ]
    },
    {
      "cell_type": "code",
      "metadata": {
        "id": "3l91kj2I6hFN"
      },
      "source": [
        "# Remove Nan values from the Data\n",
        "df=df.fillna(0)"
      ],
      "execution_count": null,
      "outputs": []
    },
    {
      "cell_type": "code",
      "metadata": {
        "colab": {
          "base_uri": "https://localhost:8080/"
        },
        "id": "CO-7LbSd6hBo",
        "outputId": "30d204a2-785f-4f27-ec6e-77fc54b6cbae"
      },
      "source": [
        "df.isnull().sum()\n",
        "\n"
      ],
      "execution_count": null,
      "outputs": [
        {
          "output_type": "execute_result",
          "data": {
            "text/plain": [
              "Country/Region            0\n",
              "Confirmed                 0\n",
              "Deaths                    0\n",
              "Recovered                 0\n",
              "Active                    0\n",
              "New cases                 0\n",
              "New deaths                0\n",
              "New recovered             0\n",
              "Deaths / 100 Cases        0\n",
              "Recovered / 100 Cases     0\n",
              "Deaths / 100 Recovered    0\n",
              "Confirmed last week       0\n",
              "1 week change             0\n",
              "1 week % increase         0\n",
              "WHO Region                0\n",
              "Unnamed: 15               0\n",
              "date                      0\n",
              "vaccine                   0\n",
              "total_vaccinations        0\n",
              "dtype: int64"
            ]
          },
          "metadata": {
            "tags": []
          },
          "execution_count": 15
        }
      ]
    },
    {
      "cell_type": "code",
      "metadata": {
        "colab": {
          "base_uri": "https://localhost:8080/",
          "height": 423
        },
        "id": "vq0oOxKZ6g73",
        "outputId": "0e5b660b-aa27-4cd5-b187-7c9632488b62"
      },
      "source": [
        "df.head()\n"
      ],
      "execution_count": null,
      "outputs": [
        {
          "output_type": "execute_result",
          "data": {
            "text/html": [
              "<div>\n",
              "<style scoped>\n",
              "    .dataframe tbody tr th:only-of-type {\n",
              "        vertical-align: middle;\n",
              "    }\n",
              "\n",
              "    .dataframe tbody tr th {\n",
              "        vertical-align: top;\n",
              "    }\n",
              "\n",
              "    .dataframe thead th {\n",
              "        text-align: right;\n",
              "    }\n",
              "</style>\n",
              "<table border=\"1\" class=\"dataframe\">\n",
              "  <thead>\n",
              "    <tr style=\"text-align: right;\">\n",
              "      <th></th>\n",
              "      <th>Country/Region</th>\n",
              "      <th>Confirmed</th>\n",
              "      <th>Deaths</th>\n",
              "      <th>Recovered</th>\n",
              "      <th>Active</th>\n",
              "      <th>New cases</th>\n",
              "      <th>New deaths</th>\n",
              "      <th>New recovered</th>\n",
              "      <th>Deaths / 100 Cases</th>\n",
              "      <th>Recovered / 100 Cases</th>\n",
              "      <th>Deaths / 100 Recovered</th>\n",
              "      <th>Confirmed last week</th>\n",
              "      <th>1 week change</th>\n",
              "      <th>1 week % increase</th>\n",
              "      <th>WHO Region</th>\n",
              "      <th>Unnamed: 15</th>\n",
              "      <th>date</th>\n",
              "      <th>vaccine</th>\n",
              "      <th>total_vaccinations</th>\n",
              "    </tr>\n",
              "  </thead>\n",
              "  <tbody>\n",
              "    <tr>\n",
              "      <th>0</th>\n",
              "      <td>Afghanistan</td>\n",
              "      <td>36263.0</td>\n",
              "      <td>1269.0</td>\n",
              "      <td>25198.0</td>\n",
              "      <td>9796.0</td>\n",
              "      <td>106.0</td>\n",
              "      <td>10.0</td>\n",
              "      <td>18.0</td>\n",
              "      <td>3.50</td>\n",
              "      <td>69.49</td>\n",
              "      <td>5.04</td>\n",
              "      <td>35526.0</td>\n",
              "      <td>737.0</td>\n",
              "      <td>2.07</td>\n",
              "      <td>Eastern Mediterranean</td>\n",
              "      <td>0</td>\n",
              "      <td>08-01-2021</td>\n",
              "      <td>Johnson&amp;Johnson</td>\n",
              "      <td>0.0</td>\n",
              "    </tr>\n",
              "    <tr>\n",
              "      <th>1</th>\n",
              "      <td>Albania</td>\n",
              "      <td>4880.0</td>\n",
              "      <td>144.0</td>\n",
              "      <td>2745.0</td>\n",
              "      <td>1991.0</td>\n",
              "      <td>117.0</td>\n",
              "      <td>6.0</td>\n",
              "      <td>63.0</td>\n",
              "      <td>2.95</td>\n",
              "      <td>56.25</td>\n",
              "      <td>5.25</td>\n",
              "      <td>4171.0</td>\n",
              "      <td>709.0</td>\n",
              "      <td>17.00</td>\n",
              "      <td>Europe</td>\n",
              "      <td>0</td>\n",
              "      <td>08-01-2021</td>\n",
              "      <td>Moderna</td>\n",
              "      <td>0.0</td>\n",
              "    </tr>\n",
              "    <tr>\n",
              "      <th>2</th>\n",
              "      <td>Algeria</td>\n",
              "      <td>27973.0</td>\n",
              "      <td>1163.0</td>\n",
              "      <td>18837.0</td>\n",
              "      <td>7973.0</td>\n",
              "      <td>616.0</td>\n",
              "      <td>8.0</td>\n",
              "      <td>749.0</td>\n",
              "      <td>4.16</td>\n",
              "      <td>67.34</td>\n",
              "      <td>6.17</td>\n",
              "      <td>23691.0</td>\n",
              "      <td>4282.0</td>\n",
              "      <td>18.07</td>\n",
              "      <td>Africa</td>\n",
              "      <td>0</td>\n",
              "      <td>08-01-2021</td>\n",
              "      <td>Oxford/AstraZeneca</td>\n",
              "      <td>0.0</td>\n",
              "    </tr>\n",
              "    <tr>\n",
              "      <th>3</th>\n",
              "      <td>Andorra</td>\n",
              "      <td>907.0</td>\n",
              "      <td>52.0</td>\n",
              "      <td>803.0</td>\n",
              "      <td>52.0</td>\n",
              "      <td>10.0</td>\n",
              "      <td>0.0</td>\n",
              "      <td>0.0</td>\n",
              "      <td>5.73</td>\n",
              "      <td>88.53</td>\n",
              "      <td>6.48</td>\n",
              "      <td>884.0</td>\n",
              "      <td>23.0</td>\n",
              "      <td>2.60</td>\n",
              "      <td>Europe</td>\n",
              "      <td>0</td>\n",
              "      <td>08-01-2021</td>\n",
              "      <td>Pfizer/BioNTech</td>\n",
              "      <td>30846.0</td>\n",
              "    </tr>\n",
              "    <tr>\n",
              "      <th>4</th>\n",
              "      <td>Angola</td>\n",
              "      <td>950.0</td>\n",
              "      <td>41.0</td>\n",
              "      <td>242.0</td>\n",
              "      <td>667.0</td>\n",
              "      <td>18.0</td>\n",
              "      <td>1.0</td>\n",
              "      <td>0.0</td>\n",
              "      <td>4.32</td>\n",
              "      <td>25.47</td>\n",
              "      <td>16.94</td>\n",
              "      <td>749.0</td>\n",
              "      <td>201.0</td>\n",
              "      <td>26.84</td>\n",
              "      <td>Africa</td>\n",
              "      <td>0</td>\n",
              "      <td>15-01-2021</td>\n",
              "      <td>Johnson&amp;Johnson</td>\n",
              "      <td>0.0</td>\n",
              "    </tr>\n",
              "  </tbody>\n",
              "</table>\n",
              "</div>"
            ],
            "text/plain": [
              "  Country/Region  Confirmed  ...             vaccine  total_vaccinations\n",
              "0    Afghanistan    36263.0  ...     Johnson&Johnson                 0.0\n",
              "1        Albania     4880.0  ...             Moderna                 0.0\n",
              "2        Algeria    27973.0  ...  Oxford/AstraZeneca                 0.0\n",
              "3        Andorra      907.0  ...     Pfizer/BioNTech             30846.0\n",
              "4         Angola      950.0  ...     Johnson&Johnson                 0.0\n",
              "\n",
              "[5 rows x 19 columns]"
            ]
          },
          "metadata": {
            "tags": []
          },
          "execution_count": 16
        }
      ]
    },
    {
      "cell_type": "code",
      "metadata": {
        "colab": {
          "base_uri": "https://localhost:8080/"
        },
        "id": "e2MBiE6D685F",
        "outputId": "a40d23c1-7f97-413f-84c8-7d7b47631b6f"
      },
      "source": [
        "df.info()\n"
      ],
      "execution_count": null,
      "outputs": [
        {
          "output_type": "stream",
          "text": [
            "<class 'pandas.core.frame.DataFrame'>\n",
            "RangeIndex: 292 entries, 0 to 291\n",
            "Data columns (total 19 columns):\n",
            " #   Column                  Non-Null Count  Dtype         \n",
            "---  ------                  --------------  -----         \n",
            " 0   Country/Region          292 non-null    object        \n",
            " 1   Confirmed               292 non-null    float64       \n",
            " 2   Deaths                  292 non-null    float64       \n",
            " 3   Recovered               292 non-null    float64       \n",
            " 4   Active                  292 non-null    float64       \n",
            " 5   New cases               292 non-null    float64       \n",
            " 6   New deaths              292 non-null    float64       \n",
            " 7   New recovered           292 non-null    float64       \n",
            " 8   Deaths / 100 Cases      292 non-null    float64       \n",
            " 9   Recovered / 100 Cases   292 non-null    float64       \n",
            " 10  Deaths / 100 Recovered  292 non-null    float64       \n",
            " 11  Confirmed last week     292 non-null    float64       \n",
            " 12  1 week change           292 non-null    float64       \n",
            " 13  1 week % increase       292 non-null    float64       \n",
            " 14  WHO Region              292 non-null    object        \n",
            " 15  Unnamed: 15             292 non-null    object        \n",
            " 16  date                    292 non-null    datetime64[ns]\n",
            " 17  vaccine                 292 non-null    object        \n",
            " 18  total_vaccinations      292 non-null    float64       \n",
            "dtypes: datetime64[ns](1), float64(14), object(4)\n",
            "memory usage: 43.5+ KB\n"
          ],
          "name": "stdout"
        }
      ]
    },
    {
      "cell_type": "code",
      "metadata": {
        "id": "QnWrlTg79JPZ"
      },
      "source": [
        "df[\"date\"]=pd.to_datetime(df[\"date\"])"
      ],
      "execution_count": null,
      "outputs": []
    },
    {
      "cell_type": "code",
      "metadata": {
        "colab": {
          "base_uri": "https://localhost:8080/",
          "height": 609
        },
        "id": "NaB2091y75B5",
        "outputId": "b0511a9b-040b-4885-eda4-38ab8f50492b"
      },
      "source": [
        "import matplotlib.pyplot as plt\n",
        "plt.figure(figsize=(20,10))\n",
        "\n",
        "plt.plot(df['date'].sort_values(),df[\"New deaths\"],c='Red')\n",
        " "
      ],
      "execution_count": null,
      "outputs": [
        {
          "output_type": "execute_result",
          "data": {
            "text/plain": [
              "[<matplotlib.lines.Line2D at 0x7f1bebb4cad0>]"
            ]
          },
          "metadata": {
            "tags": []
          },
          "execution_count": 30
        },
        {
          "output_type": "display_data",
          "data": {
            "image/png": "[encoded data removed]",
            "text/plain": [
              "<Figure size 1440x720 with 1 Axes>"
            ]
          },
          "metadata": {
            "tags": [],
            "needs_background": "light"
          }
        }
      ]
    },
    {
      "cell_type": "code",
      "metadata": {
        "id": "MyVyCwke_wWJ",
        "colab": {
          "base_uri": "https://localhost:8080/",
          "height": 339
        },
        "outputId": "c912ff7d-6286-4213-e175-548641059dce"
      },
      "source": [
        "df1=df.rename(columns={'New deaths':'y','date':'ds'})\n",
        "df1.head()"
      ],
      "execution_count": null,
      "outputs": [
        {
          "output_type": "execute_result",
          "data": {
            "text/html": [
              "<div>\n",
              "<style scoped>\n",
              "    .dataframe tbody tr th:only-of-type {\n",
              "        vertical-align: middle;\n",
              "    }\n",
              "\n",
              "    .dataframe tbody tr th {\n",
              "        vertical-align: top;\n",
              "    }\n",
              "\n",
              "    .dataframe thead th {\n",
              "        text-align: right;\n",
              "    }\n",
              "</style>\n",
              "<table border=\"1\" class=\"dataframe\">\n",
              "  <thead>\n",
              "    <tr style=\"text-align: right;\">\n",
              "      <th></th>\n",
              "      <th>Country/Region</th>\n",
              "      <th>Confirmed</th>\n",
              "      <th>Deaths</th>\n",
              "      <th>Recovered</th>\n",
              "      <th>Active</th>\n",
              "      <th>New cases</th>\n",
              "      <th>y</th>\n",
              "      <th>New recovered</th>\n",
              "      <th>Deaths / 100 Cases</th>\n",
              "      <th>Recovered / 100 Cases</th>\n",
              "      <th>Deaths / 100 Recovered</th>\n",
              "      <th>Confirmed last week</th>\n",
              "      <th>1 week change</th>\n",
              "      <th>1 week % increase</th>\n",
              "      <th>WHO Region</th>\n",
              "      <th>Unnamed: 15</th>\n",
              "      <th>ds</th>\n",
              "      <th>vaccine</th>\n",
              "      <th>total_vaccinations</th>\n",
              "    </tr>\n",
              "  </thead>\n",
              "  <tbody>\n",
              "    <tr>\n",
              "      <th>0</th>\n",
              "      <td>Afghanistan</td>\n",
              "      <td>36263.0</td>\n",
              "      <td>1269.0</td>\n",
              "      <td>25198.0</td>\n",
              "      <td>9796.0</td>\n",
              "      <td>106.0</td>\n",
              "      <td>10.0</td>\n",
              "      <td>18.0</td>\n",
              "      <td>3.50</td>\n",
              "      <td>69.49</td>\n",
              "      <td>5.04</td>\n",
              "      <td>35526.0</td>\n",
              "      <td>737.0</td>\n",
              "      <td>2.07</td>\n",
              "      <td>Eastern Mediterranean</td>\n",
              "      <td>0</td>\n",
              "      <td>2021-08-01</td>\n",
              "      <td>Johnson&amp;Johnson</td>\n",
              "      <td>0.0</td>\n",
              "    </tr>\n",
              "    <tr>\n",
              "      <th>1</th>\n",
              "      <td>Albania</td>\n",
              "      <td>4880.0</td>\n",
              "      <td>144.0</td>\n",
              "      <td>2745.0</td>\n",
              "      <td>1991.0</td>\n",
              "      <td>117.0</td>\n",
              "      <td>6.0</td>\n",
              "      <td>63.0</td>\n",
              "      <td>2.95</td>\n",
              "      <td>56.25</td>\n",
              "      <td>5.25</td>\n",
              "      <td>4171.0</td>\n",
              "      <td>709.0</td>\n",
              "      <td>17.00</td>\n",
              "      <td>Europe</td>\n",
              "      <td>0</td>\n",
              "      <td>2021-08-01</td>\n",
              "      <td>Moderna</td>\n",
              "      <td>0.0</td>\n",
              "    </tr>\n",
              "    <tr>\n",
              "      <th>2</th>\n",
              "      <td>Algeria</td>\n",
              "      <td>27973.0</td>\n",
              "      <td>1163.0</td>\n",
              "      <td>18837.0</td>\n",
              "      <td>7973.0</td>\n",
              "      <td>616.0</td>\n",
              "      <td>8.0</td>\n",
              "      <td>749.0</td>\n",
              "      <td>4.16</td>\n",
              "      <td>67.34</td>\n",
              "      <td>6.17</td>\n",
              "      <td>23691.0</td>\n",
              "      <td>4282.0</td>\n",
              "      <td>18.07</td>\n",
              "      <td>Africa</td>\n",
              "      <td>0</td>\n",
              "      <td>2021-08-01</td>\n",
              "      <td>Oxford/AstraZeneca</td>\n",
              "      <td>0.0</td>\n",
              "    </tr>\n",
              "    <tr>\n",
              "      <th>3</th>\n",
              "      <td>Andorra</td>\n",
              "      <td>907.0</td>\n",
              "      <td>52.0</td>\n",
              "      <td>803.0</td>\n",
              "      <td>52.0</td>\n",
              "      <td>10.0</td>\n",
              "      <td>0.0</td>\n",
              "      <td>0.0</td>\n",
              "      <td>5.73</td>\n",
              "      <td>88.53</td>\n",
              "      <td>6.48</td>\n",
              "      <td>884.0</td>\n",
              "      <td>23.0</td>\n",
              "      <td>2.60</td>\n",
              "      <td>Europe</td>\n",
              "      <td>0</td>\n",
              "      <td>2021-08-01</td>\n",
              "      <td>Pfizer/BioNTech</td>\n",
              "      <td>30846.0</td>\n",
              "    </tr>\n",
              "    <tr>\n",
              "      <th>4</th>\n",
              "      <td>Angola</td>\n",
              "      <td>950.0</td>\n",
              "      <td>41.0</td>\n",
              "      <td>242.0</td>\n",
              "      <td>667.0</td>\n",
              "      <td>18.0</td>\n",
              "      <td>1.0</td>\n",
              "      <td>0.0</td>\n",
              "      <td>4.32</td>\n",
              "      <td>25.47</td>\n",
              "      <td>16.94</td>\n",
              "      <td>749.0</td>\n",
              "      <td>201.0</td>\n",
              "      <td>26.84</td>\n",
              "      <td>Africa</td>\n",
              "      <td>0</td>\n",
              "      <td>2021-01-15</td>\n",
              "      <td>Johnson&amp;Johnson</td>\n",
              "      <td>0.0</td>\n",
              "    </tr>\n",
              "  </tbody>\n",
              "</table>\n",
              "</div>"
            ],
            "text/plain": [
              "  Country/Region  Confirmed  ...             vaccine  total_vaccinations\n",
              "0    Afghanistan    36263.0  ...     Johnson&Johnson                 0.0\n",
              "1        Albania     4880.0  ...             Moderna                 0.0\n",
              "2        Algeria    27973.0  ...  Oxford/AstraZeneca                 0.0\n",
              "3        Andorra      907.0  ...     Pfizer/BioNTech             30846.0\n",
              "4         Angola      950.0  ...     Johnson&Johnson                 0.0\n",
              "\n",
              "[5 rows x 19 columns]"
            ]
          },
          "metadata": {
            "tags": []
          },
          "execution_count": 31
        }
      ]
    },
    {
      "cell_type": "code",
      "metadata": {
        "colab": {
          "base_uri": "https://localhost:8080/",
          "height": 651
        },
        "id": "FxVUnBxN74-n",
        "outputId": "af4d858a-0ce9-4450-b7f7-9061b73f8887"
      },
      "source": [
        "from fbprophet import Prophet\n",
        "\n",
        "#forecasting Number of Daily Deaths upto 30 days\n",
        "\n",
        "model=Prophet(changepoint_prior_scale=1,daily_seasonality=True,yearly_seasonality=True)\n",
        "model.fit(df1)\n",
        "x=model.make_future_dataframe(periods=30,freq='D')\n",
        "forecast=model.predict(x)\n",
        "model.plot(forecast,figsize=(20,10));\n"
      ],
      "execution_count": null,
      "outputs": [
        {
          "output_type": "display_data",
          "data": {
            "image/png": "[encoded data removed]",
            "text/plain": [
              "<Figure size 1440x720 with 1 Axes>"
            ]
          },
          "metadata": {
            "tags": []
          }
        }
      ]
    },
    {
      "cell_type": "markdown",
      "metadata": {
        "id": "loAcf63ALzXN"
      },
      "source": [
        "#trend analysis"
      ]
    },
    {
      "cell_type": "code",
      "metadata": {
        "colab": {
          "base_uri": "https://localhost:8080/",
          "height": 971
        },
        "id": "MqmPetcP747j",
        "outputId": "87ad6f41-422c-47c0-fd10-896f7d036ed9"
      },
      "source": [
        "# Trend analysis for 30days\n",
        "df2=forecast[['ds','trend','yhat']]\n",
        "df2.tail(30)"
      ],
      "execution_count": null,
      "outputs": [
        {
          "output_type": "execute_result",
          "data": {
            "text/html": [
              "<div>\n",
              "<style scoped>\n",
              "    .dataframe tbody tr th:only-of-type {\n",
              "        vertical-align: middle;\n",
              "    }\n",
              "\n",
              "    .dataframe tbody tr th {\n",
              "        vertical-align: top;\n",
              "    }\n",
              "\n",
              "    .dataframe thead th {\n",
              "        text-align: right;\n",
              "    }\n",
              "</style>\n",
              "<table border=\"1\" class=\"dataframe\">\n",
              "  <thead>\n",
              "    <tr style=\"text-align: right;\">\n",
              "      <th></th>\n",
              "      <th>ds</th>\n",
              "      <th>trend</th>\n",
              "      <th>yhat</th>\n",
              "    </tr>\n",
              "  </thead>\n",
              "  <tbody>\n",
              "    <tr>\n",
              "      <th>25</th>\n",
              "      <td>2021-12-04</td>\n",
              "      <td>6.277310</td>\n",
              "      <td>101.973390</td>\n",
              "    </tr>\n",
              "    <tr>\n",
              "      <th>26</th>\n",
              "      <td>2021-12-05</td>\n",
              "      <td>6.277570</td>\n",
              "      <td>169.491981</td>\n",
              "    </tr>\n",
              "    <tr>\n",
              "      <th>27</th>\n",
              "      <td>2021-12-06</td>\n",
              "      <td>6.277831</td>\n",
              "      <td>101.139896</td>\n",
              "    </tr>\n",
              "    <tr>\n",
              "      <th>28</th>\n",
              "      <td>2021-12-07</td>\n",
              "      <td>6.278091</td>\n",
              "      <td>-20.773132</td>\n",
              "    </tr>\n",
              "    <tr>\n",
              "      <th>29</th>\n",
              "      <td>2021-12-08</td>\n",
              "      <td>6.278352</td>\n",
              "      <td>40.643597</td>\n",
              "    </tr>\n",
              "    <tr>\n",
              "      <th>30</th>\n",
              "      <td>2021-12-09</td>\n",
              "      <td>6.278612</td>\n",
              "      <td>-8.005828</td>\n",
              "    </tr>\n",
              "    <tr>\n",
              "      <th>31</th>\n",
              "      <td>2021-12-10</td>\n",
              "      <td>6.278873</td>\n",
              "      <td>-9.292649</td>\n",
              "    </tr>\n",
              "    <tr>\n",
              "      <th>32</th>\n",
              "      <td>2021-12-11</td>\n",
              "      <td>6.279133</td>\n",
              "      <td>27.601471</td>\n",
              "    </tr>\n",
              "    <tr>\n",
              "      <th>33</th>\n",
              "      <td>2021-12-12</td>\n",
              "      <td>6.279394</td>\n",
              "      <td>100.645825</td>\n",
              "    </tr>\n",
              "    <tr>\n",
              "      <th>34</th>\n",
              "      <td>2021-12-13</td>\n",
              "      <td>6.279654</td>\n",
              "      <td>38.732931</td>\n",
              "    </tr>\n",
              "    <tr>\n",
              "      <th>35</th>\n",
              "      <td>2021-12-14</td>\n",
              "      <td>6.279915</td>\n",
              "      <td>-76.003213</td>\n",
              "    </tr>\n",
              "    <tr>\n",
              "      <th>36</th>\n",
              "      <td>2021-12-15</td>\n",
              "      <td>6.280175</td>\n",
              "      <td>-6.855138</td>\n",
              "    </tr>\n",
              "    <tr>\n",
              "      <th>37</th>\n",
              "      <td>2021-12-16</td>\n",
              "      <td>6.280436</td>\n",
              "      <td>-47.405031</td>\n",
              "    </tr>\n",
              "    <tr>\n",
              "      <th>38</th>\n",
              "      <td>2021-12-17</td>\n",
              "      <td>6.280696</td>\n",
              "      <td>-40.409116</td>\n",
              "    </tr>\n",
              "    <tr>\n",
              "      <th>39</th>\n",
              "      <td>2021-12-18</td>\n",
              "      <td>6.280957</td>\n",
              "      <td>4.771373</td>\n",
              "    </tr>\n",
              "    <tr>\n",
              "      <th>40</th>\n",
              "      <td>2021-12-19</td>\n",
              "      <td>6.281217</td>\n",
              "      <td>85.935394</td>\n",
              "    </tr>\n",
              "    <tr>\n",
              "      <th>41</th>\n",
              "      <td>2021-12-20</td>\n",
              "      <td>6.281478</td>\n",
              "      <td>31.817805</td>\n",
              "    </tr>\n",
              "    <tr>\n",
              "      <th>42</th>\n",
              "      <td>2021-12-21</td>\n",
              "      <td>6.281738</td>\n",
              "      <td>-75.589393</td>\n",
              "    </tr>\n",
              "    <tr>\n",
              "      <th>43</th>\n",
              "      <td>2021-12-22</td>\n",
              "      <td>6.281999</td>\n",
              "      <td>0.297427</td>\n",
              "    </tr>\n",
              "    <tr>\n",
              "      <th>44</th>\n",
              "      <td>2021-12-23</td>\n",
              "      <td>6.282260</td>\n",
              "      <td>-34.207665</td>\n",
              "    </tr>\n",
              "    <tr>\n",
              "      <th>45</th>\n",
              "      <td>2021-12-24</td>\n",
              "      <td>6.282520</td>\n",
              "      <td>-21.943155</td>\n",
              "    </tr>\n",
              "    <tr>\n",
              "      <th>46</th>\n",
              "      <td>2021-12-25</td>\n",
              "      <td>6.282781</td>\n",
              "      <td>27.669747</td>\n",
              "    </tr>\n",
              "    <tr>\n",
              "      <th>47</th>\n",
              "      <td>2021-12-26</td>\n",
              "      <td>6.283041</td>\n",
              "      <td>112.392543</td>\n",
              "    </tr>\n",
              "    <tr>\n",
              "      <th>48</th>\n",
              "      <td>2021-12-27</td>\n",
              "      <td>6.283302</td>\n",
              "      <td>60.944839</td>\n",
              "    </tr>\n",
              "    <tr>\n",
              "      <th>49</th>\n",
              "      <td>2021-12-28</td>\n",
              "      <td>6.283562</td>\n",
              "      <td>-44.675255</td>\n",
              "    </tr>\n",
              "    <tr>\n",
              "      <th>50</th>\n",
              "      <td>2021-12-29</td>\n",
              "      <td>6.283823</td>\n",
              "      <td>32.142046</td>\n",
              "    </tr>\n",
              "    <tr>\n",
              "      <th>51</th>\n",
              "      <td>2021-12-30</td>\n",
              "      <td>6.284083</td>\n",
              "      <td>-2.244719</td>\n",
              "    </tr>\n",
              "    <tr>\n",
              "      <th>52</th>\n",
              "      <td>2021-12-31</td>\n",
              "      <td>6.284344</td>\n",
              "      <td>9.386637</td>\n",
              "    </tr>\n",
              "    <tr>\n",
              "      <th>53</th>\n",
              "      <td>2022-01-01</td>\n",
              "      <td>6.284604</td>\n",
              "      <td>57.689397</td>\n",
              "    </tr>\n",
              "    <tr>\n",
              "      <th>54</th>\n",
              "      <td>2022-01-02</td>\n",
              "      <td>6.284865</td>\n",
              "      <td>140.510755</td>\n",
              "    </tr>\n",
              "  </tbody>\n",
              "</table>\n",
              "</div>"
            ],
            "text/plain": [
              "           ds     trend        yhat\n",
              "25 2021-12-04  6.277310  101.973390\n",
              "26 2021-12-05  6.277570  169.491981\n",
              "27 2021-12-06  6.277831  101.139896\n",
              "28 2021-12-07  6.278091  -20.773132\n",
              "29 2021-12-08  6.278352   40.643597\n",
              "30 2021-12-09  6.278612   -8.005828\n",
              "31 2021-12-10  6.278873   -9.292649\n",
              "32 2021-12-11  6.279133   27.601471\n",
              "33 2021-12-12  6.279394  100.645825\n",
              "34 2021-12-13  6.279654   38.732931\n",
              "35 2021-12-14  6.279915  -76.003213\n",
              "36 2021-12-15  6.280175   -6.855138\n",
              "37 2021-12-16  6.280436  -47.405031\n",
              "38 2021-12-17  6.280696  -40.409116\n",
              "39 2021-12-18  6.280957    4.771373\n",
              "40 2021-12-19  6.281217   85.935394\n",
              "41 2021-12-20  6.281478   31.817805\n",
              "42 2021-12-21  6.281738  -75.589393\n",
              "43 2021-12-22  6.281999    0.297427\n",
              "44 2021-12-23  6.282260  -34.207665\n",
              "45 2021-12-24  6.282520  -21.943155\n",
              "46 2021-12-25  6.282781   27.669747\n",
              "47 2021-12-26  6.283041  112.392543\n",
              "48 2021-12-27  6.283302   60.944839\n",
              "49 2021-12-28  6.283562  -44.675255\n",
              "50 2021-12-29  6.283823   32.142046\n",
              "51 2021-12-30  6.284083   -2.244719\n",
              "52 2021-12-31  6.284344    9.386637\n",
              "53 2022-01-01  6.284604   57.689397\n",
              "54 2022-01-02  6.284865  140.510755"
            ]
          },
          "metadata": {
            "tags": []
          },
          "execution_count": 33
        }
      ]
    },
    {
      "cell_type": "code",
      "metadata": {
        "colab": {
          "base_uri": "https://localhost:8080/",
          "height": 873
        },
        "id": "ew2ruUfw744G",
        "outputId": "f8dab772-2789-4991-fa40-a2c90854610e"
      },
      "source": [
        "fig2=model.plot_components(forecast)"
      ],
      "execution_count": null,
      "outputs": [
        {
          "output_type": "display_data",
          "data": {
            "image/png": "[encoded data removed]",
            "text/plain": [
              "<Figure size 648x864 with 4 Axes>"
            ]
          },
          "metadata": {
            "tags": []
          }
        }
      ]
    },
    {
      "cell_type": "markdown",
      "metadata": {
        "id": "rnWBdCB4IX6a"
      },
      "source": [
        "# graph between total_vaccinations and New cases"
      ]
    },
    {
      "cell_type": "code",
      "metadata": {
        "colab": {
          "base_uri": "https://localhost:8080/",
          "height": 297
        },
        "id": "GBaZnKaDIF6J",
        "outputId": "51239dee-d114-4dad-de0e-34944ed9038c"
      },
      "source": [
        "df.groupby('total_vaccinations').mean()['New cases'].plot(kind=\"line\")"
      ],
      "execution_count": null,
      "outputs": [
        {
          "output_type": "execute_result",
          "data": {
            "text/plain": [
              "<matplotlib.axes._subplots.AxesSubplot at 0x7f1be89e69d0>"
            ]
          },
          "metadata": {
            "tags": []
          },
          "execution_count": 87
        },
        {
          "output_type": "display_data",
          "data": {
            "image/png": "[encoded data removed]",
            "text/plain": [
              "<Figure size 432x288 with 1 Axes>"
            ]
          },
          "metadata": {
            "tags": [],
            "needs_background": "light"
          }
        }
      ]
    },
    {
      "cell_type": "markdown",
      "metadata": {
        "id": "rZY7e2F1IrWI"
      },
      "source": [
        "#graph between active and recovered"
      ]
    },
    {
      "cell_type": "code",
      "metadata": {
        "colab": {
          "base_uri": "https://localhost:8080/",
          "height": 479
        },
        "id": "iICF7s6WIlHu",
        "outputId": "607f8ef0-b72e-475b-c7e9-f53590e6bc36"
      },
      "source": [
        "import seaborn as sns\n",
        "plt.figure(figsize=(30,10))\n",
        "sns.barplot(x='Active',y='Recovered',data=df)\n",
        "plt.xticks(rotation=45)\n",
        "plt.show()"
      ],
      "execution_count": null,
      "outputs": [
        {
          "output_type": "display_data",
          "data": {
            "image/png": "[encoded data removed]",
            "text/plain": [
              "<Figure size 2160x720 with 1 Axes>"
            ]
          },
          "metadata": {
            "tags": [],
            "needs_background": "light"
          }
        }
      ]
    },
    {
      "cell_type": "code",
      "metadata": {
        "colab": {
          "base_uri": "https://localhost:8080/",
          "height": 396
        },
        "id": "r_3zBaddKcoI",
        "outputId": "85db6300-76c0-4ea3-e406-2d9456d73227"
      },
      "source": [
        "sns.heatmap(df.describe(),cmap='Reds',annot=False)"
      ],
      "execution_count": null,
      "outputs": [
        {
          "output_type": "execute_result",
          "data": {
            "text/plain": [
              "<matplotlib.axes._subplots.AxesSubplot at 0x7f1be7d6c690>"
            ]
          },
          "metadata": {
            "tags": []
          },
          "execution_count": 82
        },
        {
          "output_type": "display_data",
          "data": {
            "image/png": "[encoded data removed]",
            "text/plain": [
              "<Figure size 432x288 with 2 Axes>"
            ]
          },
          "metadata": {
            "tags": [],
            "needs_background": "light"
          }
        }
      ]
    }
  ]
}